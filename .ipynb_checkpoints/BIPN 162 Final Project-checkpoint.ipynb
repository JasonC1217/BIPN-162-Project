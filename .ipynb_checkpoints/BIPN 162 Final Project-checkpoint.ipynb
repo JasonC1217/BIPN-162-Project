{
 "cells": [
  {
   "cell_type": "markdown",
   "id": "a89963d5",
   "metadata": {},
   "source": [
    "# BIPN 162 Final Project: Title"
   ]
  },
  {
   "cell_type": "markdown",
   "id": "06c57d21",
   "metadata": {},
   "source": [
    "## Team Members:\n",
    "- Jason Chen\n",
    "- Xuanyu Dong\n",
    "-"
   ]
  },
  {
   "cell_type": "markdown",
   "id": "4e676d2d",
   "metadata": {},
   "source": [
    "## Setup"
   ]
  },
  {
   "cell_type": "code",
   "execution_count": 1,
   "id": "7a207039",
   "metadata": {},
   "outputs": [],
   "source": [
    "import pandas as pd\n",
    "import seaborn as sns\n",
    "import numpy as np\n",
    "import matplotlib.pyplot as plt\n",
    "import random\n",
    "import scipy.stats as stats \n",
    "from scipy.stats import ttest_ind, chisquare,normaltest\n",
    "import sklearn\n",
    "import warnings\n",
    "warnings.filterwarnings(\"ignore\")"
   ]
  },
  {
   "cell_type": "code",
   "execution_count": 2,
   "id": "8ae6f2f0",
   "metadata": {},
   "outputs": [],
   "source": [
    "# Add more codes and descriptions here by adding new cells."
   ]
  },
  {
   "cell_type": "code",
   "execution_count": null,
   "id": "53f9dd40",
   "metadata": {},
   "outputs": [],
   "source": []
  }
 ],
 "metadata": {
  "kernelspec": {
   "display_name": "Python 3 (ipykernel)",
   "language": "python",
   "name": "python3"
  },
  "language_info": {
   "codemirror_mode": {
    "name": "ipython",
    "version": 3
   },
   "file_extension": ".py",
   "mimetype": "text/x-python",
   "name": "python",
   "nbconvert_exporter": "python",
   "pygments_lexer": "ipython3",
   "version": "3.10.2"
  }
 },
 "nbformat": 4,
 "nbformat_minor": 5
}
